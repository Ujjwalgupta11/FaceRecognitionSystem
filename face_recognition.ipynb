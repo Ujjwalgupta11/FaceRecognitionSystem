{
  "nbformat": 4,
  "nbformat_minor": 0,
  "metadata": {
    "colab": {
      "name": "face_recognition.ipynb",
      "version": "0.3.2",
      "provenance": []
    },
    "kernelspec": {
      "name": "python3",
      "display_name": "Python 3"
    },
    "accelerator": "GPU"
  },
  "cells": [
    {
      "metadata": {
        "id": "6dMDBCx-ePfk",
        "colab_type": "code",
        "colab": {
          "base_uri": "https://localhost:8080/",
          "height": 35
        },
        "outputId": "9545ce80-3615-411b-d464-38db8ccab7a5"
      },
      "cell_type": "code",
      "source": [
        "!pip install dlib"
      ],
      "execution_count": 1,
      "outputs": [
        {
          "output_type": "stream",
          "text": [
            "Requirement already satisfied: dlib in /usr/local/lib/python3.6/dist-packages (19.16.0)\n"
          ],
          "name": "stdout"
        }
      ]
    },
    {
      "metadata": {
        "id": "-5LtzO4WdEqS",
        "colab_type": "code",
        "colab": {
          "base_uri": "https://localhost:8080/",
          "height": 328
        },
        "outputId": "28407b19-cfac-4913-af85-e8e6b2a1b0d1"
      },
      "cell_type": "code",
      "source": [
        "!pip install face_recognition"
      ],
      "execution_count": 2,
      "outputs": [
        {
          "output_type": "stream",
          "text": [
            "Collecting face_recognition\n",
            "  Downloading https://files.pythonhosted.org/packages/3f/ed/ad9a28042f373d4633fc8b49109b623597d6f193d3bbbef7780a5ee8eef2/face_recognition-1.2.3-py2.py3-none-any.whl\n",
            "Collecting face-recognition-models>=0.3.0 (from face_recognition)\n",
            "\u001b[?25l  Downloading https://files.pythonhosted.org/packages/cf/3b/4fd8c534f6c0d1b80ce0973d01331525538045084c73c153ee6df20224cf/face_recognition_models-0.3.0.tar.gz (100.1MB)\n",
            "\u001b[K    100% |████████████████████████████████| 100.2MB 296kB/s \n",
            "\u001b[?25hRequirement already satisfied: dlib>=19.7 in /usr/local/lib/python3.6/dist-packages (from face_recognition) (19.16.0)\n",
            "Requirement already satisfied: numpy in /usr/local/lib/python3.6/dist-packages (from face_recognition) (1.14.6)\n",
            "Requirement already satisfied: Click>=6.0 in /usr/local/lib/python3.6/dist-packages (from face_recognition) (7.0)\n",
            "Requirement already satisfied: Pillow in /usr/local/lib/python3.6/dist-packages (from face_recognition) (4.0.0)\n",
            "Requirement already satisfied: olefile in /usr/local/lib/python3.6/dist-packages (from Pillow->face_recognition) (0.46)\n",
            "Building wheels for collected packages: face-recognition-models\n",
            "  Running setup.py bdist_wheel for face-recognition-models ... \u001b[?25l-\b \b\\\b \b|\b \b/\b \b-\b \b\\\b \b|\b \b/\b \bdone\n",
            "\u001b[?25h  Stored in directory: /root/.cache/pip/wheels/d2/99/18/59c6c8f01e39810415c0e63f5bede7d83dfb0ffc039865465f\n",
            "Successfully built face-recognition-models\n",
            "Installing collected packages: face-recognition-models, face-recognition\n",
            "Successfully installed face-recognition-1.2.3 face-recognition-models-0.3.0\n"
          ],
          "name": "stdout"
        }
      ]
    },
    {
      "metadata": {
        "id": "f1he81g2xZvn",
        "colab_type": "code",
        "colab": {
          "base_uri": "https://localhost:8080/",
          "height": 128
        },
        "outputId": "6bf3fa90-ecb9-42db-ee77-83f18f9f4859"
      },
      "cell_type": "code",
      "source": [
        "from google.colab import drive\n",
        "drive.mount('/content/drive')"
      ],
      "execution_count": 10,
      "outputs": [
        {
          "output_type": "stream",
          "text": [
            "Go to this URL in a browser: https://accounts.google.com/o/oauth2/auth?client_id=947318989803-6bn6qk8qdgf4n4g3pfee6491hc0brc4i.apps.googleusercontent.com&redirect_uri=urn%3Aietf%3Awg%3Aoauth%3A2.0%3Aoob&scope=email%20https%3A%2F%2Fwww.googleapis.com%2Fauth%2Fdocs.test%20https%3A%2F%2Fwww.googleapis.com%2Fauth%2Fdrive%20https%3A%2F%2Fwww.googleapis.com%2Fauth%2Fdrive.photos.readonly%20https%3A%2F%2Fwww.googleapis.com%2Fauth%2Fpeopleapi.readonly&response_type=code\n",
            "\n",
            "Enter your authorization code:\n",
            "··········\n",
            "Mounted at /content/drive\n"
          ],
          "name": "stdout"
        }
      ]
    },
    {
      "metadata": {
        "id": "_-wpNxEbzpxe",
        "colab_type": "code",
        "colab": {
          "base_uri": "https://localhost:8080/",
          "height": 35
        },
        "outputId": "b3316e03-4c12-4d3d-f608-d0669c9e4741"
      },
      "cell_type": "code",
      "source": [
        "!cd 'drive/My Drive/Colab Notebooks/face_recognition-master/Images' ; pwd"
      ],
      "execution_count": 11,
      "outputs": [
        {
          "output_type": "stream",
          "text": [
            "/content/drive/My Drive/Colab Notebooks/face_recognition-master/Images\n"
          ],
          "name": "stdout"
        }
      ]
    },
    {
      "metadata": {
        "id": "AOYqIfl1x4B2",
        "colab_type": "code",
        "colab": {}
      },
      "cell_type": "code",
      "source": [
        "import os\n",
        "import face_recognition"
      ],
      "execution_count": 0,
      "outputs": []
    },
    {
      "metadata": {
        "id": "DlpPXNkNyJev",
        "colab_type": "code",
        "colab": {
          "base_uri": "https://localhost:8080/",
          "height": 35
        },
        "outputId": "2a9119fc-5337-40aa-902b-ec9313200ac9"
      },
      "cell_type": "code",
      "source": [
        "\n",
        "# make a list of all the available images\n",
        "images = os.listdir('/content/drive/My Drive/Colab Notebooks/face_recognition-master/Images')\n",
        "print(images)"
      ],
      "execution_count": 29,
      "outputs": [
        {
          "output_type": "stream",
          "text": [
            "['download.jpg', 'download (1).jpg', 'download (2).jpg', 'images.jpg', 'test', 'arun_train.jpeg', 'chandra_train.jpeg', 'hylish.jpeg']\n"
          ],
          "name": "stdout"
        }
      ]
    },
    {
      "metadata": {
        "id": "ciCmOKe18-4E",
        "colab_type": "code",
        "colab": {}
      },
      "cell_type": "code",
      "source": [
        "# load your image\n",
        "image_to_be_matched = face_recognition.load_image_file('/content/drive/My Drive/Colab Notebooks/face_recognition-master/Images/test/hylish_test.jpeg')"
      ],
      "execution_count": 0,
      "outputs": []
    },
    {
      "metadata": {
        "id": "M1Xh2Voi9Bpz",
        "colab_type": "code",
        "colab": {}
      },
      "cell_type": "code",
      "source": [
        "# encoded the loaded image into a feature vector\n",
        "image_to_be_matched_encoded = face_recognition.face_encodings(\n",
        "    image_to_be_matched)[0]\n"
      ],
      "execution_count": 0,
      "outputs": []
    },
    {
      "metadata": {
        "id": "kZRdhlAE9Zdh",
        "colab_type": "code",
        "colab": {
          "base_uri": "https://localhost:8080/",
          "height": 145
        },
        "outputId": "c2db4765-1395-4bec-ee4c-8c70b25a7be6"
      },
      "cell_type": "code",
      "source": [
        "\n",
        "# iterate over each image\n",
        "for image in images:\n",
        "    # load the image\n",
        "    try:\n",
        "      current_image = face_recognition.load_image_file('/content/drive/My Drive/Colab Notebooks/face_recognition-master/Images/'+ image)\n",
        "      # encode the loaded image into a feature vector\n",
        "      current_image_encoded = face_recognition.face_encodings(current_image)[0]\n",
        "      # match your image with the image and check if it matches\n",
        "      result = face_recognition.compare_faces(\n",
        "          [image_to_be_matched_encoded], current_image_encoded, tolerance = 0.5)\n",
        "      # check if it was a match\n",
        "      if result[0] == True:\n",
        "          print (\"Matched: \" + image)\n",
        "      else:\n",
        "          print (\"Not matched: \" + image)\n",
        "    except:\n",
        "      continue"
      ],
      "execution_count": 57,
      "outputs": [
        {
          "output_type": "stream",
          "text": [
            "Not matched: download.jpg\n",
            "Not matched: download (1).jpg\n",
            "Not matched: download (2).jpg\n",
            "Not matched: images.jpg\n",
            "Not matched: arun_train.jpeg\n",
            "Not matched: chandra_train.jpeg\n",
            "Matched: hylish.jpeg\n"
          ],
          "name": "stdout"
        }
      ]
    }
  ]
}